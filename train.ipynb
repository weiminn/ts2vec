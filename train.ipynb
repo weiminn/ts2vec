{
 "cells": [
  {
   "cell_type": "code",
   "execution_count": 1,
   "metadata": {},
   "outputs": [],
   "source": [
    "import torch\n",
    "import numpy as np\n",
    "import argparse\n",
    "import os\n",
    "import sys\n",
    "import time\n",
    "import datetime\n",
    "from ts2vec import TS2Vec\n",
    "import tasks\n",
    "import datautils\n",
    "from tasks import _eval_protocols as eval_protocols\n",
    "from utils import init_dl_program, name_with_datetime, pkl_save, data_dropout"
   ]
  },
  {
   "cell_type": "code",
   "execution_count": 2,
   "metadata": {},
   "outputs": [],
   "source": [
    "def save_checkpoint_callback(\n",
    "    save_every=1,\n",
    "    unit='epoch'\n",
    "):\n",
    "    assert unit in ('epoch', 'iter')\n",
    "    def callback(model, loss):\n",
    "        n = model.n_epochs if unit == 'epoch' else model.n_iters\n",
    "        if n % save_every == 0:\n",
    "            model.save(f'{run_dir}/model_{n}.pkl')\n",
    "    return callback"
   ]
  },
  {
   "cell_type": "code",
   "execution_count": 3,
   "metadata": {},
   "outputs": [],
   "source": [
    "dataset='electricity'\n",
    "run_name='forecast_multivar'\n",
    "loader='forecast_csv'\n",
    "gpu=0\n",
    "batch_size=8\n",
    "lr=0.001\n",
    "repr_dims=320\n",
    "max_train_length=3000\n",
    "iters=None\n",
    "epochs=None\n",
    "save_every=None\n",
    "seed=42\n",
    "max_threads=30\n",
    "eval=True\n",
    "irregular=0"
   ]
  },
  {
   "cell_type": "code",
   "execution_count": 4,
   "metadata": {},
   "outputs": [
    {
     "name": "stdout",
     "output_type": "stream",
     "text": [
      "Loading data... \n",
      "Train data shape: (321, 15782, 8)\n"
     ]
    }
   ],
   "source": [
    "device = init_dl_program(0, seed=42, max_threads=max_threads)\n",
    "\n",
    "print('Loading data... ')\n",
    "task_type = 'forecasting'\n",
    "data, train_slice, valid_slice, test_slice, scaler, pred_lens, n_covariate_cols = datautils.load_forecast_csv(dataset)\n",
    "train_data = data[:, train_slice]\n",
    "print(\"Train data shape:\", train_data.shape)\n",
    "\n",
    "config = dict(\n",
    "    batch_size=batch_size,\n",
    "    lr=lr,\n",
    "    output_dims=repr_dims,\n",
    "    max_train_length=max_train_length\n",
    ")\n",
    "\n",
    "if save_every is not None:\n",
    "    unit = 'epoch' if epochs is not None else 'iter'\n",
    "    config[f'after_{unit}_callback'] = save_checkpoint_callback(save_every, unit)\n",
    "\n",
    "run_dir = 'training/' + dataset + '__' + name_with_datetime(run_name)\n",
    "os.makedirs(run_dir, exist_ok=True)\n",
    "\n",
    "t = time.time()\n",
    "\n",
    "model = TS2Vec(\n",
    "    input_dims=train_data.shape[-1],\n",
    "    device=device,\n",
    "    **config\n",
    ")"
   ]
  },
  {
   "cell_type": "code",
   "execution_count": 5,
   "metadata": {},
   "outputs": [
    {
     "name": "stdout",
     "output_type": "stream",
     "text": [
      "Epoch #0: loss=1.4719260054826737\n",
      "Epoch #1: loss=0.550676117092371\n",
      "Epoch #2: loss=0.40362279050052163\n",
      "\n",
      "Training time: 0:02:14.329828\n",
      "\n"
     ]
    }
   ],
   "source": [
    "loss_log = model.fit(\n",
    "    train_data,\n",
    "    n_epochs=epochs,\n",
    "    n_iters=iters,\n",
    "    verbose=True\n",
    ")\n",
    "model.save(f'{run_dir}/model.pkl')\n",
    "t = time.time() - t\n",
    "print(f\"\\nTraining time: {datetime.timedelta(seconds=t)}\\n\")"
   ]
  },
  {
   "cell_type": "code",
   "execution_count": 6,
   "metadata": {},
   "outputs": [
    {
     "name": "stderr",
     "output_type": "stream",
     "text": [
      "/media/weiminn/Data/ML/ts2vec/ts2vec.py:320: FutureWarning: You are using `torch.load` with `weights_only=False` (the current default value), which uses the default pickle module implicitly. It is possible to construct malicious pickle data which will execute arbitrary code during unpickling (See https://github.com/pytorch/pytorch/blob/main/SECURITY.md#untrusted-models for more details). In a future release, the default value for `weights_only` will be flipped to `True`. This limits the functions that could be executed during unpickling. Arbitrary objects will no longer be allowed to be loaded via this mode unless they are explicitly allowlisted by the user via `torch.serialization.add_safe_globals`. We recommend you start setting `weights_only=True` for any use case where you don't have full control of the loaded file. Please open an issue on GitHub for any issues related to this experimental feature.\n",
      "  state_dict = torch.load(fn, map_location=self.device)\n"
     ]
    }
   ],
   "source": [
    "model.load('training/electricity__forecast_multivar_20241024_132036/model.pkl')"
   ]
  },
  {
   "cell_type": "code",
   "execution_count": 6,
   "metadata": {},
   "outputs": [
    {
     "name": "stderr",
     "output_type": "stream",
     "text": [
      "100%|██████████| 26304/26304 [11:16<00:00, 38.91it/s]\n",
      "100%|██████████| 26304/26304 [04:20<00:00, 101.13it/s]\n"
     ]
    }
   ],
   "source": [
    "padding = 200\n",
    "    \n",
    "t = time.time()\n",
    "all_repr = model.encode(\n",
    "    data,\n",
    "    causal=True,\n",
    "    sliding_length=1,\n",
    "    sliding_padding=padding,\n",
    "    batch_size=256\n",
    ")\n",
    "ts2vec_infer_time = time.time() - t\n",
    "with open('training/electricity__forecast_multivar_20241024_132036/all_repr.npy', 'wb') as f:\n",
    "    np.save(f, all_repr)"
   ]
  },
  {
   "cell_type": "code",
   "execution_count": 17,
   "metadata": {},
   "outputs": [],
   "source": [
    "all_repr = np.load('training/electricity__forecast_multivar_20241024_132036/all_repr.npy')"
   ]
  },
  {
   "cell_type": "code",
   "execution_count": 7,
   "metadata": {},
   "outputs": [],
   "source": [
    "train_repr = all_repr[:, train_slice]\n",
    "valid_repr = all_repr[:, valid_slice]\n",
    "test_repr = all_repr[:, test_slice]\n",
    "\n",
    "train_data = data[:, train_slice, n_covariate_cols:]\n",
    "valid_data = data[:, valid_slice, n_covariate_cols:]\n",
    "test_data = data[:, test_slice, n_covariate_cols:]"
   ]
  },
  {
   "cell_type": "code",
   "execution_count": 8,
   "metadata": {},
   "outputs": [],
   "source": [
    "def generate_pred_samples(features, data, pred_len, drop=0):\n",
    "    n = data.shape[1]\n",
    "    features = features[:, :-pred_len]\n",
    "    labels = np.stack([ data[:, i:1+n+i-pred_len] for i in range(pred_len)], axis=2)[:, 1:]\n",
    "    features = features[:, drop:]\n",
    "    labels = labels[:, drop:]\n",
    "    return features.reshape(-1, features.shape[-1]), \\\n",
    "            labels.reshape(-1, labels.shape[2]*labels.shape[3])\n",
    "\n",
    "def cal_metrics(pred, target):\n",
    "    return {\n",
    "        'MSE': ((pred - target) ** 2).mean(),\n",
    "        'MAE': np.abs(pred - target).mean()\n",
    "    }"
   ]
  },
  {
   "cell_type": "code",
   "execution_count": 9,
   "metadata": {},
   "outputs": [
    {
     "name": "stdout",
     "output_type": "stream",
     "text": [
      "Predicting for length: 24\n",
      "Fitting Ridge Regression\n"
     ]
    },
    {
     "name": "stderr",
     "output_type": "stream",
     "text": [
      "/media/weiminn/Data/ML/ts2vec/venv/lib/python3.11/site-packages/sklearn/linear_model/_ridge.py:216: LinAlgWarning: Ill-conditioned matrix (rcond=1.16909e-08): result may not be accurate.\n",
      "  return linalg.solve(A, Xy, assume_a=\"pos\", overwrite_a=True).T\n",
      "/media/weiminn/Data/ML/ts2vec/venv/lib/python3.11/site-packages/sklearn/linear_model/_ridge.py:216: LinAlgWarning: Ill-conditioned matrix (rcond=2.33244e-08): result may not be accurate.\n",
      "  return linalg.solve(A, Xy, assume_a=\"pos\", overwrite_a=True).T\n",
      "/media/weiminn/Data/ML/ts2vec/venv/lib/python3.11/site-packages/sklearn/linear_model/_ridge.py:216: LinAlgWarning: Ill-conditioned matrix (rcond=5.75942e-08): result may not be accurate.\n",
      "  return linalg.solve(A, Xy, assume_a=\"pos\", overwrite_a=True).T\n",
      "/media/weiminn/Data/ML/ts2vec/venv/lib/python3.11/site-packages/sklearn/linear_model/_ridge.py:216: LinAlgWarning: Ill-conditioned matrix (rcond=1.16909e-08): result may not be accurate.\n",
      "  return linalg.solve(A, Xy, assume_a=\"pos\", overwrite_a=True).T\n"
     ]
    },
    {
     "name": "stdout",
     "output_type": "stream",
     "text": [
      "Predicting with Ridge\n",
      "Predicting for length: 48\n",
      "Fitting Ridge Regression\n"
     ]
    },
    {
     "name": "stderr",
     "output_type": "stream",
     "text": [
      "/media/weiminn/Data/ML/ts2vec/venv/lib/python3.11/site-packages/sklearn/linear_model/_ridge.py:216: LinAlgWarning: Ill-conditioned matrix (rcond=1.167e-08): result may not be accurate.\n",
      "  return linalg.solve(A, Xy, assume_a=\"pos\", overwrite_a=True).T\n",
      "/media/weiminn/Data/ML/ts2vec/venv/lib/python3.11/site-packages/sklearn/linear_model/_ridge.py:216: LinAlgWarning: Ill-conditioned matrix (rcond=2.32829e-08): result may not be accurate.\n",
      "  return linalg.solve(A, Xy, assume_a=\"pos\", overwrite_a=True).T\n",
      "/media/weiminn/Data/ML/ts2vec/venv/lib/python3.11/site-packages/sklearn/linear_model/_ridge.py:216: LinAlgWarning: Ill-conditioned matrix (rcond=5.74677e-08): result may not be accurate.\n",
      "  return linalg.solve(A, Xy, assume_a=\"pos\", overwrite_a=True).T\n",
      "/media/weiminn/Data/ML/ts2vec/venv/lib/python3.11/site-packages/sklearn/linear_model/_ridge.py:216: LinAlgWarning: Ill-conditioned matrix (rcond=1.167e-08): result may not be accurate.\n",
      "  return linalg.solve(A, Xy, assume_a=\"pos\", overwrite_a=True).T\n"
     ]
    },
    {
     "name": "stdout",
     "output_type": "stream",
     "text": [
      "Predicting with Ridge\n"
     ]
    }
   ],
   "source": [
    "ours_result = {}\n",
    "lr_train_time = {}\n",
    "lr_infer_time = {}\n",
    "out_log = {}\n",
    "for pred_len in pred_lens[0:2]:\n",
    "    print(\"Predicting for length:\", pred_len)\n",
    "    train_features, train_labels = generate_pred_samples(train_repr, train_data, pred_len, drop=padding)\n",
    "    valid_features, valid_labels = generate_pred_samples(valid_repr, valid_data, pred_len)\n",
    "    test_features, test_labels = generate_pred_samples(test_repr, test_data, pred_len)\n",
    "    \n",
    "    print(\"Fitting Ridge Regression\")\n",
    "    t = time.time()\n",
    "    lr = eval_protocols.fit_ridge(train_features, train_labels, valid_features, valid_labels)\n",
    "    lr_train_time[pred_len] = time.time() - t\n",
    "    \n",
    "    print(\"Predicting with Ridge\")\n",
    "    t = time.time()\n",
    "    test_pred = lr.predict(test_features)\n",
    "    lr_infer_time[pred_len] = time.time() - t\n",
    "\n",
    "    ori_shape = test_data.shape[0], -1, pred_len, test_data.shape[2]\n",
    "    test_pred = test_pred.reshape(ori_shape)\n",
    "    test_labels = test_labels.reshape(ori_shape)\n",
    "    \n",
    "        \n",
    "    out_log[pred_len] = {\n",
    "        'norm': test_pred,\n",
    "        'norm_gt': test_labels,\n",
    "    }\n",
    "    ours_result[pred_len] = {\n",
    "        'norm': cal_metrics(test_pred, test_labels),\n",
    "    }\n",
    "    \n",
    "eval_res = {\n",
    "    'ours': ours_result,\n",
    "    'ts2vec_infer_time': ts2vec_infer_time,\n",
    "    'lr_train_time': lr_train_time,\n",
    "    'lr_infer_time': lr_infer_time\n",
    "}"
   ]
  },
  {
   "cell_type": "code",
   "execution_count": 10,
   "metadata": {},
   "outputs": [
    {
     "name": "stdout",
     "output_type": "stream",
     "text": [
      "Evaluation result: {'ours': {24: {'norm': {'MSE': 0.28812696385408204, 'MAE': 0.3758995626158909}}, 48: {'norm': {'MSE': 0.31168743772722285, 'MAE': 0.3922654431728807}}}, 'ts2vec_infer_time': 938.0712258815765, 'lr_train_time': {24: 16.403483629226685, 48: 16.90790867805481}, 'lr_infer_time': {24: 0.5094263553619385, 48: 0.8072500228881836}}\n"
     ]
    }
   ],
   "source": [
    "# pkl_save(f'{run_dir}/out.pkl', out)\n",
    "# pkl_save(f'{run_dir}/eval_res.pkl', eval_res)\n",
    "print('Evaluation result:', eval_res)"
   ]
  },
  {
   "cell_type": "code",
   "execution_count": 11,
   "metadata": {},
   "outputs": [
    {
     "data": {
      "text/plain": [
       "{24: {'norm': {'MSE': 0.28812696385408204, 'MAE': 0.3758995626158909}},\n",
       " 48: {'norm': {'MSE': 0.31168743772722285, 'MAE': 0.3922654431728807}}}"
      ]
     },
     "execution_count": 11,
     "metadata": {},
     "output_type": "execute_result"
    }
   ],
   "source": [
    "eval_res['ours']"
   ]
  }
 ],
 "metadata": {
  "kernelspec": {
   "display_name": "venv",
   "language": "python",
   "name": "python3"
  },
  "language_info": {
   "codemirror_mode": {
    "name": "ipython",
    "version": 3
   },
   "file_extension": ".py",
   "mimetype": "text/x-python",
   "name": "python",
   "nbconvert_exporter": "python",
   "pygments_lexer": "ipython3",
   "version": "3.11.6"
  }
 },
 "nbformat": 4,
 "nbformat_minor": 2
}
